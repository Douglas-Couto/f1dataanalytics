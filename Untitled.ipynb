{
 "cells": [
  {
   "cell_type": "code",
   "execution_count": 1,
   "id": "6050798f",
   "metadata": {},
   "outputs": [],
   "source": [
    "import fastf1 as f1\n"
   ]
  },
  {
   "cell_type": "code",
   "execution_count": 2,
   "id": "303f8c58",
   "metadata": {},
   "outputs": [
    {
     "ename": "NotADirectoryError",
     "evalue": "Cache directory does not exist! Please check for typos or create it first.",
     "output_type": "error",
     "traceback": [
      "\u001b[1;31m---------------------------------------------------------------------------\u001b[0m",
      "\u001b[1;31mNotADirectoryError\u001b[0m                        Traceback (most recent call last)",
      "Input \u001b[1;32mIn [2]\u001b[0m, in \u001b[0;36m<cell line: 1>\u001b[1;34m()\u001b[0m\n\u001b[1;32m----> 1\u001b[0m \u001b[43mf1\u001b[49m\u001b[38;5;241;43m.\u001b[39;49m\u001b[43mCache\u001b[49m\u001b[38;5;241;43m.\u001b[39;49m\u001b[43menable_cache\u001b[49m\u001b[43m(\u001b[49m\u001b[38;5;124;43m'\u001b[39;49m\u001b[38;5;124;43mcache\u001b[39;49m\u001b[38;5;124;43m'\u001b[39;49m\u001b[43m)\u001b[49m\n",
      "File \u001b[1;32mc:\\users\\gamer\\pycharmprojects\\f1project\\venv\\lib\\site-packages\\fastf1\\api.py:132\u001b[0m, in \u001b[0;36mCache.enable_cache\u001b[1;34m(cls, cache_dir, ignore_version, force_renew, use_requests_cache)\u001b[0m\n\u001b[0;32m    122\u001b[0m \u001b[38;5;124;03m\"\"\"Enables the API cache.\u001b[39;00m\n\u001b[0;32m    123\u001b[0m \n\u001b[0;32m    124\u001b[0m \u001b[38;5;124;03mArgs:\u001b[39;00m\n\u001b[1;32m   (...)\u001b[0m\n\u001b[0;32m    129\u001b[0m \u001b[38;5;124;03m    use_requests_cache (bool): Do caching of the raw GET and POST requests.\u001b[39;00m\n\u001b[0;32m    130\u001b[0m \u001b[38;5;124;03m\"\"\"\u001b[39;00m\n\u001b[0;32m    131\u001b[0m \u001b[38;5;28;01mif\u001b[39;00m \u001b[38;5;129;01mnot\u001b[39;00m os\u001b[38;5;241m.\u001b[39mpath\u001b[38;5;241m.\u001b[39mexists(cache_dir):\n\u001b[1;32m--> 132\u001b[0m     \u001b[38;5;28;01mraise\u001b[39;00m \u001b[38;5;167;01mNotADirectoryError\u001b[39;00m(\u001b[38;5;124m\"\u001b[39m\u001b[38;5;124mCache directory does not exist! Please check for typos or create it first.\u001b[39m\u001b[38;5;124m\"\u001b[39m)\n\u001b[0;32m    133\u001b[0m \u001b[38;5;28mcls\u001b[39m\u001b[38;5;241m.\u001b[39m_CACHE_DIR \u001b[38;5;241m=\u001b[39m cache_dir\n\u001b[0;32m    134\u001b[0m \u001b[38;5;28mcls\u001b[39m\u001b[38;5;241m.\u001b[39m_IGNORE_VERSION \u001b[38;5;241m=\u001b[39m ignore_version\n",
      "\u001b[1;31mNotADirectoryError\u001b[0m: Cache directory does not exist! Please check for typos or create it first."
     ]
    }
   ],
   "source": [
    "f1.Cache.enable_cache('cache')"
   ]
  },
  {
   "cell_type": "code",
   "execution_count": 3,
   "id": "83ba9091",
   "metadata": {},
   "outputs": [],
   "source": [
    "f1.Cache.enable_cache('cache')\n"
   ]
  },
  {
   "cell_type": "code",
   "execution_count": 4,
   "id": "3ed1becd",
   "metadata": {},
   "outputs": [],
   "source": [
    "bahrain_day3 = f1.get_testing_session(2022,2,3)\n"
   ]
  },
  {
   "cell_type": "code",
   "execution_count": 5,
   "id": "05ef688c",
   "metadata": {},
   "outputs": [
    {
     "name": "stderr",
     "output_type": "stream",
     "text": [
      "core           INFO \tLoading laps for Pre-Season Test - Practice 3 [v2.2.0-alpha0]\n",
      "api            INFO \tNo cached data found for timing_data. Loading data...\n",
      "api            INFO \tFetching timing data...\n",
      "api            INFO \tParsing timing data...\n",
      "api            INFO \tData has been written to cache!\n",
      "api            INFO \tNo cached data found for timing_app_data. Loading data...\n",
      "api            INFO \tFetching timing app data...\n",
      "api            INFO \tData has been written to cache!\n",
      "core           INFO \tProcessing timing data...\n",
      "api            INFO \tNo cached data found for driver_info. Loading data...\n",
      "api            INFO \tFetching driver list...\n",
      "api            INFO \tData has been written to cache!\n",
      "api            INFO \tNo cached data found for session_status_data. Loading data...\n",
      "api            INFO \tFetching session status data...\n",
      "api            INFO \tData has been written to cache!\n",
      "core        WARNING \tNo lap data for driver 3\n",
      "core        WARNING \tNo lap data for driver 31\n",
      "api            INFO \tNo cached data found for track_status_data. Loading data...\n",
      "api            INFO \tFetching track status data...\n",
      "api            INFO \tData has been written to cache!\n",
      "api            INFO \tNo cached data found for car_data. Loading data...\n",
      "api            INFO \tFetching car data...\n",
      "api            INFO \tParsing car data...\n",
      "api            INFO \tData has been written to cache!\n",
      "api            INFO \tNo cached data found for position_data. Loading data...\n",
      "api            INFO \tFetching position data...\n",
      "api            INFO \tParsing position data...\n",
      "api            INFO \tData has been written to cache!\n",
      "api            INFO \tNo cached data found for weather_data. Loading data...\n",
      "api            INFO \tFetching weather data...\n",
      "core        WARNING \tFailed to load weather data!\n",
      "core           INFO \tLoaded data for 20 drivers: ['23', '31', '16', '55', '10', '24', '77', '11', '3', '47', '63', '6', '22', '14', '4', '18', '44', '1', '20', '5']\n"
     ]
    }
   ],
   "source": [
    "laps = bahrain_day3.load_laps(with_telemetry=True)"
   ]
  },
  {
   "cell_type": "code",
   "execution_count": null,
   "id": "459b651f",
   "metadata": {},
   "outputs": [],
   "source": [
    "from matplotlib import plotting\n",
    "from matplot"
   ]
  }
 ],
 "metadata": {
  "kernelspec": {
   "display_name": "Python 3 (ipykernel)",
   "language": "python",
   "name": "python3"
  },
  "language_info": {
   "codemirror_mode": {
    "name": "ipython",
    "version": 3
   },
   "file_extension": ".py",
   "mimetype": "text/x-python",
   "name": "python",
   "nbconvert_exporter": "python",
   "pygments_lexer": "ipython3",
   "version": "3.9.5"
  }
 },
 "nbformat": 4,
 "nbformat_minor": 5
}
